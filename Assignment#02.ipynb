{
 "cells": [
  {
   "cell_type": "code",
   "execution_count": 8,
   "metadata": {},
   "outputs": [
    {
     "name": "stdout",
     "output_type": "stream",
     "text": [
      "Enter marks of math59\n",
      "Enter marks of english59\n",
      "Enter marks of pakistan studies59\n",
      "Enter marks of urdu59\n",
      "Enter marks of science59\n",
      "Fail\n"
     ]
    }
   ],
   "source": [
    "math=int(input(\"Enter marks of math\"))\n",
    "eng=int(input(\"Enter marks of english\"))\n",
    "pak_st=int(input(\"Enter marks of pakistan studies\"))\n",
    "urdu=int(input(\"Enter marks of urdu\"))\n",
    "science=int(input(\"Enter marks of science\"))\n",
    "\n",
    "grade=(math+eng+pak_st+urdu+science)/5\n",
    "\n",
    "if grade >=80 and grade<=100:\n",
    "    print(\"A\")\n",
    "elif grade >=70 and grade<80:\n",
    "    print(\"B\")\n",
    "elif grade >=60 and grade<70:\n",
    "    print(\"C\")\n",
    "elif grade >=0 and grade<60:\n",
    "    print(\"Fail\")\n",
    "\n",
    "    "
   ]
  },
  {
   "cell_type": "code",
   "execution_count": 12,
   "metadata": {},
   "outputs": [
    {
     "name": "stdout",
     "output_type": "stream",
     "text": [
      "Enter Number2\n",
      "This number is even   2\n"
     ]
    }
   ],
   "source": [
    "var=int(input(\"Enter Number\"))\n",
    "if var%2==0:\n",
    "    print(\"This number is even\",\" \" ,var)\n",
    "else:\n",
    "     print(\"This number is odd\",\" \" ,var)\n"
   ]
  },
  {
   "cell_type": "code",
   "execution_count": 19,
   "metadata": {},
   "outputs": [
    {
     "data": {
      "text/plain": [
       "8"
      ]
     },
     "execution_count": 19,
     "metadata": {},
     "output_type": "execute_result"
    }
   ],
   "source": [
    "arr=len([1,2,3,4,5,6,9,7])\n",
    "arr\n",
    "\n"
   ]
  },
  {
   "cell_type": "code",
   "execution_count": 21,
   "metadata": {},
   "outputs": [
    {
     "name": "stdout",
     "output_type": "stream",
     "text": [
      "15\n"
     ]
    }
   ],
   "source": [
    "arr1 =[1,2,3,4,5]\n",
    "\n",
    "total = sum(arr1)\n",
    "print(total)"
   ]
  },
  {
   "cell_type": "code",
   "execution_count": 24,
   "metadata": {},
   "outputs": [
    {
     "name": "stdout",
     "output_type": "stream",
     "text": [
      "max number is 100\n"
     ]
    }
   ],
   "source": [
    "arr2= [20,24,30,40,100]\n",
    "\n",
    "max=arr2[0]\n",
    "for i in range(1,len(arr2)):\n",
    "    if arr2[i]>max:\n",
    "        max=arr2[i]\n",
    "        \n",
    "print(\"max number is\",max)        "
   ]
  },
  {
   "cell_type": "code",
   "execution_count": 28,
   "metadata": {},
   "outputs": [
    {
     "name": "stdout",
     "output_type": "stream",
     "text": [
      "sum of 5 number is 146\n"
     ]
    }
   ],
   "source": [
    "arr3=[1,2,45,78,20,47,47,14,200]\n",
    "\n",
    "sum =0\n",
    "\n",
    "for i in range(0,len(arr3)):\n",
    "    if i<5:\n",
    "        sum=sum+arr3[i]\n",
    "    \n",
    "print(\"sum of 5 number is\",sum)    \n"
   ]
  },
  {
   "cell_type": "code",
   "execution_count": null,
   "metadata": {},
   "outputs": [],
   "source": []
  }
 ],
 "metadata": {
  "kernelspec": {
   "display_name": "Python 3",
   "language": "python",
   "name": "python3"
  },
  "language_info": {
   "codemirror_mode": {
    "name": "ipython",
    "version": 3
   },
   "file_extension": ".py",
   "mimetype": "text/x-python",
   "name": "python",
   "nbconvert_exporter": "python",
   "pygments_lexer": "ipython3",
   "version": "3.7.4"
  }
 },
 "nbformat": 4,
 "nbformat_minor": 2
}
