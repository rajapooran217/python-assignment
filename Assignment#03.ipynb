{
 "cells": [
  {
   "cell_type": "code",
   "execution_count": null,
   "metadata": {},
   "outputs": [],
   "source": [
    "a =int(input(\"Enter value1 is \"))\n",
    "b =int(input(\"Enter value2 is \"))\n",
    "operator=input(\"Press any arithematic operator\")\n",
    "if operator=='+':\n",
    "    print(a+b)\n",
    "elif operator=='-':\n",
    "    print(a-b)\n",
    "elif operator=='*':\n",
    "    print(a*b)  \n",
    "elif operator=='/':\n",
    "    print(a/b)  \n",
    "elif operator=='^':\n",
    "    print(a^b)\n",
    "else:\n",
    "    print(\"Invalid Operator\")"
   ]
  },
  {
   "cell_type": "code",
   "execution_count": null,
   "metadata": {},
   "outputs": [],
   "source": [
    "LIST=[1,1,2,'b','c','d']\n",
    "val=int(input(\"Enter values \"))\n",
    "for a in LIST:\n",
    "\n",
    "    if val==LIST[val]:\n",
    "        print(\"Numeric Value exist\")\n",
    "        break\n",
    "    else:\n",
    "        print(\"Does not have\")\n",
    "        break\n"
   ]
  },
  {
   "cell_type": "code",
   "execution_count": null,
   "metadata": {},
   "outputs": [],
   "source": [
    "LIST=[1,1,2,'b','c','d']\n",
    "val=int(input(\"Enter values \"))\n",
    "for a in LIST:\n",
    "\n",
    "    if val==LIST[val]:\n",
    "        print(\"Numeric Value exist\")\n",
    "        break\n",
    "    else:\n",
    "        print(\"Does not have\")\n",
    "        break\n"
   ]
  },
  {
   "cell_type": "code",
   "execution_count": null,
   "metadata": {},
   "outputs": [],
   "source": [
    "customers_salary={\n",
    "    1:100,\n",
    "    2:200,\n",
    "    3:500\n",
    "    }\n",
    "sum =0\n",
    "for a in customers_salary.values():\n",
    "    sum = sum+a\n",
    "    \n",
    "    \n",
    "print(sum) \n",
    "          "
   ]
  },
  {
   "cell_type": "code",
   "execution_count": null,
   "metadata": {},
   "outputs": [],
   "source": [
    "lst = [\"1\",\"2\",\"3\",\"3\",\"4\"]\n",
    "dup = True\n",
    "for item in lst:\n",
    "    if lst.count(item) > 1:\n",
    "        dup = False\n",
    "        print(item)\n",
    "\n",
    "if dup == True:\n",
    "    print(\"No duplicates\")\n",
    "else:\n",
    "    print(\"Duplicates found\")"
   ]
  },
  {
   "cell_type": "code",
   "execution_count": null,
   "metadata": {},
   "outputs": [],
   "source": [
    "customers_salary={\n",
    "    1:100,\n",
    "    2:200,\n",
    "    3:300\n",
    "    }\n",
    "\n",
    "user_key =int(input(\"enterr key\"))\n",
    "\n",
    "if user_key in customers_salary.keys():\n",
    "    print(\"key already exist\")\n",
    "else :\n",
    "    print(\"key does not exist\")"
   ]
  }
 ],
 "metadata": {
  "kernelspec": {
   "display_name": "Python 3",
   "language": "python",
   "name": "python3"
  },
  "language_info": {
   "codemirror_mode": {
    "name": "ipython",
    "version": 3
   },
   "file_extension": ".py",
   "mimetype": "text/x-python",
   "name": "python",
   "nbconvert_exporter": "python",
   "pygments_lexer": "ipython3",
   "version": "3.7.4"
  }
 },
 "nbformat": 4,
 "nbformat_minor": 2
}
