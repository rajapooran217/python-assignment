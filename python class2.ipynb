{
 "cells": [
  {
   "cell_type": "code",
   "execution_count": 3,
   "metadata": {},
   "outputs": [
    {
     "name": "stdout",
     "output_type": "stream",
     "text": [
      "291\n"
     ]
    }
   ],
   "source": [
    "x=10\n",
    "y=10\n",
    "a=10\n",
    "b=301\n",
    "if x+y != b-a:\n",
    "    print(b-a)"
   ]
  },
  {
   "cell_type": "code",
   "execution_count": 10,
   "metadata": {},
   "outputs": [
    {
     "name": "stdout",
     "output_type": "stream",
     "text": [
      "enter percentage73\n",
      "B+\n"
     ]
    }
   ],
   "source": [
    " per=int(input(\"enter percentage\"))\n",
    "if per>=80:\n",
    "    print(\"A+\")\n",
    "elif per >=70 and per<80:\n",
    "    print(\"B+\")\n",
    "else:\n",
    "    print(\"a\")\n",
    "    \n"
   ]
  },
  {
   "cell_type": "code",
   "execution_count": 17,
   "metadata": {},
   "outputs": [
    {
     "name": "stdout",
     "output_type": "stream",
     "text": [
      "hey\n",
      "5\n"
     ]
    }
   ],
   "source": [
    "a=2\n",
    "b=8\n",
    "c=7\n",
    "d=5\n",
    "e=6\n",
    "if a==2:\n",
    "    print(\"hey\")\n",
    "    if b==3:\n",
    "        print(\"b is true\",+b)\n",
    "    elif c==4:\n",
    "        print(c)\n",
    "    else:\n",
    "        print(d)\n",
    "else :\n",
    "    print(e)"
   ]
  },
  {
   "cell_type": "code",
   "execution_count": 20,
   "metadata": {},
   "outputs": [
    {
     "data": {
      "text/plain": [
       "['a', 'b', 'c', 1, False, 'umer']"
      ]
     },
     "execution_count": 20,
     "metadata": {},
     "output_type": "execute_result"
    }
   ],
   "source": [
    "arr=[\"a\",\"b\",'c',1,False]\n",
    "arr.append(\"umer\")\n",
    "arr\n"
   ]
  },
  {
   "cell_type": "code",
   "execution_count": 21,
   "metadata": {},
   "outputs": [
    {
     "data": {
      "text/plain": [
       "['a', 'b', 'c', 1, False, 'umer', 'de', 'fe']"
      ]
     },
     "execution_count": 21,
     "metadata": {},
     "output_type": "execute_result"
    }
   ],
   "source": [
    "arr1=arr+[\"de\",\"fe\"]\n",
    "arr1"
   ]
  },
  {
   "cell_type": "code",
   "execution_count": 23,
   "metadata": {},
   "outputs": [
    {
     "data": {
      "text/plain": [
       "['pk', 'a', 'b', 'c', 1, False, 'umer', 'de', 'fe']"
      ]
     },
     "execution_count": 23,
     "metadata": {},
     "output_type": "execute_result"
    }
   ],
   "source": [
    "arr1.insert(0,\"pk\")\n",
    "arr1"
   ]
  },
  {
   "cell_type": "code",
   "execution_count": 29,
   "metadata": {},
   "outputs": [
    {
     "name": "stdout",
     "output_type": "stream",
     "text": [
      "['raja', 'b', 'c', 1, False, 'umer']\n",
      "['b', 'c']\n",
      "['raja', 'b', 'c', 1, False]\n",
      "['b', 'c', 1, False]\n"
     ]
    }
   ],
   "source": [
    "arr[0]=\"raja\"\n",
    "print(arr)\n",
    "arr2=arr1[2:4]\n",
    "print(arr2)\n",
    "arr3=arr[:5]\n",
    "print(arr3)\n",
    "del arr3[0]\n",
    "print(arr3)"
   ]
  },
  {
   "cell_type": "code",
   "execution_count": 30,
   "metadata": {},
   "outputs": [
    {
     "name": "stdout",
     "output_type": "stream",
     "text": [
      "['c', 1, False]\n"
     ]
    }
   ],
   "source": [
    "arr3.remove(\"b\")\n",
    "print(arr3)\n",
    "\n"
   ]
  },
  {
   "cell_type": "code",
   "execution_count": 31,
   "metadata": {},
   "outputs": [
    {
     "name": "stdout",
     "output_type": "stream",
     "text": [
      "c\n"
     ]
    }
   ],
   "source": [
    "arr4=arr3.pop(0)\n",
    "print(arr4)"
   ]
  },
  {
   "cell_type": "code",
   "execution_count": null,
   "metadata": {},
   "outputs": [],
   "source": []
  }
 ],
 "metadata": {
  "kernelspec": {
   "display_name": "Python 3",
   "language": "python",
   "name": "python3"
  },
  "language_info": {
   "codemirror_mode": {
    "name": "ipython",
    "version": 3
   },
   "file_extension": ".py",
   "mimetype": "text/x-python",
   "name": "python",
   "nbconvert_exporter": "python",
   "pygments_lexer": "ipython3",
   "version": "3.7.4"
  }
 },
 "nbformat": 4,
 "nbformat_minor": 2
}
